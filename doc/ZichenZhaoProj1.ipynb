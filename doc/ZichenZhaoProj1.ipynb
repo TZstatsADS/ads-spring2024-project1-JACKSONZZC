{
 "cells": [
  {
   "cell_type": "markdown",
   "id": "07fb3173-76c5-4790-9a61-cd3db1541453",
   "metadata": {},
   "source": [
    "# Use of Words across Age Span in the United States"
   ]
  },
  {
   "cell_type": "markdown",
   "id": "5a6dce88-d28e-4849-9df6-4aabf658ab84",
   "metadata": {},
   "source": [
    "## Environment Setting"
   ]
  },
  {
   "cell_type": "code",
   "execution_count": 1,
   "id": "47cee24f-a4e5-4c27-9149-602bbaba4248",
   "metadata": {},
   "outputs": [],
   "source": [
    "import pandas as pd\n",
    "import numpy as np\n",
    "import statsmodels.api as sm\n",
    "from collections import Counter\n",
    "import nltk\n",
    "import gensim\n",
    "from gensim import corpora\n",
    "from nltk.corpus import stopwords\n",
    "from nltk.tokenize import word_tokenize\n",
    "from nltk.stem import WordNetLemmatizer\n",
    "from nltk.sentiment import SentimentIntensityAnalyzer\n",
    "from wordcloud import WordCloud\n",
    "from textblob import TextBlob\n",
    "import matplotlib.pyplot as plt\n",
    "from sklearn.feature_extraction.text import TfidfVectorizer"
   ]
  },
  {
   "cell_type": "markdown",
   "id": "d56ad479-4de1-4598-8db4-d4d34960e76c",
   "metadata": {},
   "source": [
    "# Goal of the project: \n",
    "## 1. remove all the stopping words and normalize the age frame\n",
    "## 2. Focus on individuals from the US and divide genders into males and females\n",
    "## 3. Merge the dataset between demography and cleaned_hm. \n",
    "## 4. Calculate the percentage of frequency on use of sentiment words based on males and females.\n",
    "## 5. Extract word values based on sentiment words by percentage of frequency and set target words.\n",
    "## 6. Line-chart visualization on frequency of words value by age between male and female. \n",
    "## 7. Insights from some target words according to certain ages"
   ]
  },
  {
   "cell_type": "markdown",
   "id": "fc113d16-b8d4-4328-a7f9-d9657efd49c9",
   "metadata": {},
   "source": [
    "## Data Manipulation for age normalization and removal of stop words"
   ]
  },
  {
   "cell_type": "markdown",
   "id": "4c87a26a-7d6d-4f94-b59a-14114fc9e6f2",
   "metadata": {},
   "source": [
    "### 1. Text Simple Preprocessing"
   ]
  },
  {
   "cell_type": "code",
   "execution_count": 2,
   "id": "57e83add-c0f1-4ea8-9751-71f732f7910e",
   "metadata": {},
   "outputs": [],
   "source": [
    "def simple_preprocess(text):\n",
    "    \"\"\"\n",
    "    Perform simple preprocessing on the given text.\n",
    "    - Convert text to lowercase.\n",
    "    - Remove non-alphabetic characters, keeping only letters and spaces.\n",
    "    - Split text into individual words.\n",
    "    \n",
    "    Parameters:\n",
    "    - text (str): The text to be preprocessed.\n",
    "    \n",
    "    Returns:\n",
    "    - list: A list of preprocessed words from the text.\n",
    "    \"\"\"\n",
    "    text = text.lower()  # Convert text into lowercase\n",
    "    text = ''.join(char for char in text if char.isalpha() or char.isspace())  # Remove non-alphabetic characters\n",
    "    words = text.split()  # Split text into words\n",
    "    return words"
   ]
  },
  {
   "cell_type": "markdown",
   "id": "997b1b4f-a246-4f66-816f-c1b10a1e68c8",
   "metadata": {},
   "source": [
    "### 2. Removal of Stop Words"
   ]
  },
  {
   "cell_type": "code",
   "execution_count": 3,
   "id": "d19555c1-718c-42e7-8f8f-447d338aaf3f",
   "metadata": {},
   "outputs": [
    {
     "name": "stderr",
     "output_type": "stream",
     "text": [
      "[nltk_data] Downloading package stopwords to\n",
      "[nltk_data]     /Users/jacksonzhao/nltk_data...\n",
      "[nltk_data]   Package stopwords is already up-to-date!\n",
      "[nltk_data] Downloading package vader_lexicon to\n",
      "[nltk_data]     /Users/jacksonzhao/nltk_data...\n",
      "[nltk_data]   Package vader_lexicon is already up-to-date!\n"
     ]
    }
   ],
   "source": [
    "# Download necessary NLTK data\n",
    "nltk.download('stopwords')\n",
    "nltk.download('vader_lexicon')\n",
    "\n",
    "def process_data(data_path, age_column, text_column, gender_prefix):\n",
    "    \"\"\"\n",
    "    Process data by performing text preprocessing, removing stop words, sentiment analysis setup, and age normalization.\n",
    "    \n",
    "    Parameters:\n",
    "    - data_path (str): Path to the CSV file.\n",
    "    - age_column (str): Name of the column for age data.\n",
    "    - text_column (str): Name of the column for text data.\n",
    "    - gender_prefix (str): Prefix for gender-specific processing.\n",
    "    \n",
    "    Returns:\n",
    "    - Tuple: Processed DataFrame, most common filtered words, sentiment word frequency by age.\n",
    "    \"\"\"\n",
    "    data_df = pd.read_csv(data_path)\n",
    "    data_df[f'{gender_prefix}_processed_text'] = data_df[text_column].apply(simple_preprocess)\n",
    "\n",
    "    # Remove stop words\n",
    "    all_words = [word for text in data_df[f'{gender_prefix}_processed_text'] for word in text]\n",
    "    english_stopwords = set(stopwords.words('english'))\n",
    "    filtered_words = [word for word in all_words if word not in english_stopwords]\n",
    "    filtered_word_freq = Counter(filtered_words)\n",
    "    most_common_filtered_words = filtered_word_freq.most_common(20)\n",
    "\n",
    "    # Sentiment analysis setup\n",
    "    sia = SentimentIntensityAnalyzer()\n",
    "    sentiment_words_from_filtered = [word for word in filtered_words if word in sia.lexicon]\n",
    "    unique_sentiment_words = list(set(sentiment_words_from_filtered))"
   ]
  },
  {
   "cell_type": "markdown",
   "id": "fc06505a-ff02-4e76-aa4c-3e56c10f806f",
   "metadata": {},
   "source": [
    "### 3. Age Normalization and Sentiment Word frequency Combination"
   ]
  },
  {
   "cell_type": "code",
   "execution_count": 4,
   "id": "52f5c97c-655e-4d0e-93cc-5177949e5617",
   "metadata": {},
   "outputs": [],
   "source": [
    "def normalize_age(age):\n",
    "    \"\"\"\n",
    "    Normalize age values by converting them to integers, or return None for invalid inputs.\n",
    "    \n",
    "    Parameters:\n",
    "    - age (str): Age value to be normalized.\n",
    "    \n",
    "    Returns:\n",
    "    - int or None: Normalized age as an integer, or None for invalid inputs.\n",
    "    \"\"\"\n",
    "    try:\n",
    "        return int(float(age))\n",
    "    except (ValueError, TypeError):\n",
    "        return None\n",
    "\n",
    "# Continue within the process_data function for age normalization application\n",
    "    data_df[f'normalized_age_{gender_prefix}'] = data_df[age_column].apply(normalize_age)\n",
    "    valid_age_data_df = data_df.dropna(subset=[f'normalized_age_{gender_prefix}'])\n",
    "\n",
    "# Group texts by normalized age\n",
    "    grouped_texts = valid_age_data_df.groupby(f'normalized_age_{gender_prefix}')[f'{gender_prefix}_processed_text']\n",
    "    age_grouped_text_valid = grouped_texts.apply(lambda texts: ' '.join(' '.join(text) for text in texts))\n",
    "\n",
    "    # Word frequency analysis by valid age groups\n",
    "    word_freq_by_valid_age = {}\n",
    "    for age, text in age_grouped_text_valid.items():\n",
    "        words = text.split()\n",
    "        filtered_words = [word for word in words if word not in english_stopwords]\n",
    "        word_freq = Counter(filtered_words)\n",
    "        word_freq_by_valid_age[age] = word_freq\n",
    "\n",
    "    # Sentiment word frequency analysis by age\n",
    "    sentiment_word_freq_by_valid_age = pd.DataFrame({\n",
    "        word: [word_freq_by_valid_age[age][word] for age in word_freq_by_valid_age] for word in unique_sentiment_words\n",
    "    }, index=word_freq_by_valid_age.keys())\n",
    "\n",
    "    return data_df, most_common_filtered_words, sentiment_word_freq_by_valid_age"
   ]
  },
  {
   "cell_type": "markdown",
   "id": "c1a83d34-3857-4b01-88ff-7685560d850b",
   "metadata": {},
   "source": [
    "## - Manipulate data and separated by gender"
   ]
  },
  {
   "cell_type": "markdown",
   "id": "af490334-4e52-4bad-b7fb-eba5c4f82f6e",
   "metadata": {},
   "source": [
    "### 1. Data Loading and Merging"
   ]
  },
  {
   "cell_type": "code",
   "execution_count": 5,
   "id": "1a713c5e-5e68-4e58-bf25-edd3f435a5be",
   "metadata": {},
   "outputs": [],
   "source": [
    "# Define the path for input and output data\n",
    "input_path = '../data/'\n",
    "output_path = '../output/'\n",
    "\n",
    "# Load demographic and cleaned happiness moments (hm) data\n",
    "demographic_df = pd.read_csv(f'{input_path}demographic.csv')\n",
    "cleaned_hm_df = pd.read_csv(f'{input_path}cleaned_hm.csv')\n",
    "\n",
    "# Merge the datasets on 'wid' (writer ID) and filter for US participants\n",
    "merged_data = pd.merge(cleaned_hm_df, demographic_df, on='wid', how='inner')\n",
    "us_data = merged_data[merged_data['country'] == 'USA']"
   ]
  },
  {
   "cell_type": "markdown",
   "id": "3070af71-890d-4b62-bfd8-1908e3469abf",
   "metadata": {},
   "source": [
    "### 2. Gender-specific Data Segregation and Saving"
   ]
  },
  {
   "cell_type": "code",
   "execution_count": 6,
   "id": "b66b8719-2823-4a1c-8c4f-e9b8b45931ce",
   "metadata": {},
   "outputs": [],
   "source": [
    "for gender in ['m', 'f']:\n",
    "    gender_data = us_data[us_data['gender'] == gender]\n",
    "    gender_data.to_csv(f'{output_path}{gender}_data.csv', index=False)"
   ]
  },
  {
   "cell_type": "markdown",
   "id": "4b281ab5-4450-42bb-8c4f-fbc94514ecc7",
   "metadata": {},
   "source": [
    "### 3. Sentiment Word Frequency Analysis"
   ]
  },
  {
   "cell_type": "code",
   "execution_count": 7,
   "id": "4db9a372-8c84-486f-8c8d-f730be88671a",
   "metadata": {},
   "outputs": [
    {
     "ename": "TypeError",
     "evalue": "cannot unpack non-iterable NoneType object",
     "output_type": "error",
     "traceback": [
      "\u001b[0;31m---------------------------------------------------------------------------\u001b[0m",
      "\u001b[0;31mTypeError\u001b[0m                                 Traceback (most recent call last)",
      "Cell \u001b[0;32mIn[7], line 9\u001b[0m\n\u001b[1;32m      7\u001b[0m \u001b[38;5;66;03m# Calculate sentiment word frequency percentages for each gender\u001b[39;00m\n\u001b[1;32m      8\u001b[0m sentiment_word_freq_percentages \u001b[38;5;241m=\u001b[39m {}\n\u001b[0;32m----> 9\u001b[0m \u001b[38;5;28;01mfor\u001b[39;00m gender_prefix, (data_df, most_common, sentiment_word_freq_by_valid_age) \u001b[38;5;129;01min\u001b[39;00m processed_data\u001b[38;5;241m.\u001b[39mitems():\n\u001b[1;32m     10\u001b[0m     total_words_per_age_group \u001b[38;5;241m=\u001b[39m sentiment_word_freq_by_valid_age\u001b[38;5;241m.\u001b[39msum(axis\u001b[38;5;241m=\u001b[39m\u001b[38;5;241m1\u001b[39m)\n\u001b[1;32m     11\u001b[0m     sentiment_word_freq_percentages[gender_prefix] \u001b[38;5;241m=\u001b[39m sentiment_word_freq_by_valid_age\u001b[38;5;241m.\u001b[39mdiv(total_words_per_age_group, axis\u001b[38;5;241m=\u001b[39m\u001b[38;5;241m0\u001b[39m) \u001b[38;5;241m*\u001b[39m \u001b[38;5;241m100\u001b[39m\n",
      "\u001b[0;31mTypeError\u001b[0m: cannot unpack non-iterable NoneType object"
     ]
    }
   ],
   "source": [
    "# Process the data for male and female participants\n",
    "processed_data = {}\n",
    "for gender_prefix in ['male', 'female']:\n",
    "    file_path = f'{output_path}{gender_prefix[0]}_data.csv'\n",
    "    processed_data[gender_prefix] = process_data(file_path, 'age', 'cleaned_hm', gender_prefix)\n",
    "\n",
    "# Calculate sentiment word frequency percentages for each gender\n",
    "sentiment_word_freq_percentages = {}\n",
    "for gender_prefix, (data_df, most_common, sentiment_word_freq_by_valid_age) in processed_data.items():\n",
    "    total_words_per_age_group = sentiment_word_freq_by_valid_age.sum(axis=1)\n",
    "    sentiment_word_freq_percentages[gender_prefix] = sentiment_word_freq_by_valid_age.div(total_words_per_age_group, axis=0) * 100\n",
    "\n",
    "# Combine the lists of words from both genders into a single set to eliminate duplicates\n",
    "words = list(set(\n",
    "    sentiment_word_freq_percentages['male'].columns.to_list() +\n",
    "    sentiment_word_freq_percentages['female'].columns.to_list()\n",
    "))"
   ]
  },
  {
   "cell_type": "code",
   "execution_count": null,
   "id": "6501bb4e-7d52-41f5-b1bf-e743b164d989",
   "metadata": {},
   "outputs": [],
   "source": []
  },
  {
   "cell_type": "code",
   "execution_count": null,
   "id": "86a5de0f-26c7-4926-8542-14836c676dbd",
   "metadata": {},
   "outputs": [],
   "source": [
    "# Step 1: Rename columns except for 'age'\n",
    "sentiment_word_freq_percentages_male.columns = [f'{col}_male' if col != 'age' else col for col in sentiment_word_freq_percentages_male.columns]\n",
    "sentiment_word_freq_percentages_female.columns = [f'{col}_female' if col != 'age' else col for col in sentiment_word_freq_percentages_female.columns]\n",
    "\n",
    "# Step 2: Set 'age' as index for both DataFrames\n",
    "sentiment_word_freq_percentages_male.index.name = 'Age'\n",
    "sentiment_word_freq_percentages_female.index.name = 'Age'\n",
    "\n",
    "# Step 3: Perform an outer merge on the index (age)\n",
    "merged_df = pd.merge(sentiment_word_freq_percentages_male, sentiment_word_freq_percentages_female, left_index=True, right_index=True, how='outer')"
   ]
  },
  {
   "cell_type": "code",
   "execution_count": null,
   "id": "4d343a2c-a081-48fe-8c60-66411d93ba32",
   "metadata": {},
   "outputs": [],
   "source": [
    "# Step 1: Reset index to convert 'age' into a column\n",
    "merged_df.reset_index(inplace=True)\n",
    "# Show the modified DataFrame\n",
    "merged_df['Age'] = merged_df['Age'].astype(int)\n",
    "merged_df"
   ]
  },
  {
   "cell_type": "code",
   "execution_count": null,
   "id": "a099a57f-b648-489a-b88e-b21d0f43575f",
   "metadata": {},
   "outputs": [],
   "source": [
    "def plot_word_frequency(word, merged_df, output_directory='../figs/word_frequency_compare/'):\n",
    "    \"\"\"\n",
    "    Plots word frequency comparison by age and gender.\n",
    "\n",
    "    Parameters:\n",
    "    - word (str): The word to plot frequencies for.\n",
    "    - merged_df (DataFrame): The DataFrame containing word frequencies.\n",
    "    - output_directory (str): Directory path to save the output plots.\n",
    "    \"\"\"\n",
    "\n",
    "    # Ensure the word columns exist in the DataFrame; if not, initialize them to 0\n",
    "    for gender in ['male', 'female']:\n",
    "        column_name = f'{word}_{gender}'\n",
    "        if column_name not in merged_df.columns:\n",
    "            merged_df[column_name] = 0\n",
    "\n",
    "    # Prepare data for plotting, filling NaN values with 0\n",
    "    plot_data = merged_df[['Age', f'{word}_male', f'{word}_female']].fillna(0)\n",
    "\n",
    "    # Set figure size for better visibility\n",
    "    plt.figure(figsize=(14, 6))  # Wider chart for clarity\n",
    "\n",
    "    # Positions of bars on the x-axis and bar width\n",
    "    bar_width = 0.35\n",
    "    r1 = range(len(plot_data))\n",
    "    r2 = [x + bar_width for x in r1]\n",
    "\n",
    "    # Making the plot\n",
    "    plt.bar(r1, plot_data[f'{word}_male'], color='blue', width=bar_width, edgecolor='grey', label='Male')\n",
    "    plt.bar(r2, plot_data[f'{word}_female'], color='red', width=bar_width, edgecolor='grey', label='Female')\n",
    "\n",
    "    # Add labels, title, and customize x-axis ticks\n",
    "    plt.xlabel('Age', fontweight='bold')\n",
    "    plt.xticks([r + bar_width / 2 for r in r1], plot_data['Age'].astype(str), rotation='vertical')\n",
    "    plt.ylabel(f'Frequency of \"{word.capitalize()}\"', fontweight='bold')\n",
    "    plt.title(f'Comparison of \"{word.capitalize()}\" Frequency by Age and Gender', fontweight='bold')\n",
    "\n",
    "    plt.legend()\n",
    "    plt.tight_layout()  # Adjust layout\n",
    "\n",
    "    # Check and create output directory if it doesn't exist\n",
    "    if not os.path.exists(output_directory):\n",
    "        os.makedirs(output_directory)\n",
    "\n",
    "    # Save the plot\n",
    "    plt.savefig(os.path.join(output_directory, f'{word}.png'))\n",
    "    plt.close()  # Close the plot to free up memory\n",
    "\n",
    "# Example usage, assuming 'merged_df' and 'words' are defined\n",
    "for word in words:\n",
    "    plot_word_frequency(word, merged_df)"
   ]
  },
  {
   "cell_type": "markdown",
   "id": "a30a14f5-9da2-4e48-9416-f41954c21da4",
   "metadata": {},
   "source": [
    "#### Extract top 10 words for each age"
   ]
  },
  {
   "cell_type": "code",
   "execution_count": null,
   "id": "2acc47cd-a773-4e7c-b128-451f4ce39360",
   "metadata": {},
   "outputs": [],
   "source": [
    "# Re-process the merged data with corrected approach for basic stopwords\n",
    "word_freq_percentage_by_age_corrected_total = process_data_for_age_with_basic_stopwords_corrected(merged_data, 'cleaned_hm', 'age')\n",
    "word_freq_percentage_by_age_corrected_male = process_data_for_age_with_basic_stopwords_corrected(male_data, 'cleaned_hm', 'age')\n",
    "word_freq_percentage_by_age_corrected_female = process_data_for_age_with_basic_stopwords_corrected(female_data, 'cleaned_hm', 'age')"
   ]
  },
  {
   "cell_type": "code",
   "execution_count": null,
   "id": "68f2f9c0-b57b-4b31-948d-4a8aa096a4c7",
   "metadata": {},
   "outputs": [],
   "source": [
    "def extract_word_values(word_freq_data, target_word):\n",
    "    \"\"\"\n",
    "    Extracts and returns the values associated with the target word for each age group\n",
    "    in the provided data structure.\n",
    "\n",
    "    Parameters:\n",
    "    - word_freq_data: A dictionary with age groups as keys and lists of (word, value) tuples as values.\n",
    "    - target_word: The word for which values are to be extracted across all age groups.\n",
    "\n",
    "    Returns:\n",
    "    - results_df: A pandas DataFrame with two columns: 'Age' and '{target_word} Value', where each row corresponds\n",
    "      to an age group and its value for the target word. If the target word is not present, the value will be None.\n",
    "    \"\"\"\n",
    "    # Initialize an empty dictionary to store the results\n",
    "    results = {}\n",
    "    \n",
    "    # Iterate over each age group in the data\n",
    "    for age, word_values in word_freq_data.items():\n",
    "        # Initialize the value for the target word as None for each age group\n",
    "        value_for_target_word = None\n",
    "        \n",
    "        # Search for the target word entry\n",
    "        for word, value in word_values:\n",
    "            if word == target_word:\n",
    "                value_for_target_word = value\n",
    "                break  # Stop searching once the target word is found\n",
    "        \n",
    "        # Assign the found value or None to the results dictionary\n",
    "        results[age] = value_for_target_word\n",
    "\n",
    "    # Convert the dictionary to a DataFrame and dynamically name the 'Value' column based on the target word\n",
    "    results_df = pd.DataFrame(list(results.items()), columns=['Age', f'{target_word} Value'])\n",
    "\n",
    "    # Return the DataFrame\n",
    "    return results_df\n",
    "\n",
    "def merge_word_values_by_age(word_freq_data, words):\n",
    "    \"\"\"\n",
    "    Merges the values for a list of words across age groups into a single DataFrame.\n",
    "\n",
    "    Parameters:\n",
    "    - word_freq_data: A dictionary with age groups as keys and lists of (word, value) tuples as values.\n",
    "    - words: A list of words to extract and merge values for.\n",
    "\n",
    "    Returns:\n",
    "    - merged_results_df: A pandas DataFrame with age groups as rows and each word's values as columns.\n",
    "    \"\"\"\n",
    "    # Initialize an empty DataFrame to hold the merged results\n",
    "    merged_results_df = pd.DataFrame()\n",
    "\n",
    "    # Iterate over each word to extract its values and merge the results\n",
    "    for word in words:\n",
    "        # Extract values for the current word\n",
    "        results_df = extract_word_values(word_freq_data, word)\n",
    "        \n",
    "        # Rename the column to reflect the current word's values\n",
    "        results_df.rename(columns={f'{word} Value': f'{word}_value'}, inplace=True)\n",
    "        \n",
    "        # If it's the first word, initialize the merged DataFrame with the age and word's value\n",
    "        if merged_results_df.empty:\n",
    "            merged_results_df = results_df\n",
    "        else:\n",
    "            # For subsequent words, merge on 'Age' to ensure alignment across age groups\n",
    "            merged_results_df = pd.merge(merged_results_df, results_df, on='Age', how='outer')\n",
    "\n",
    "    # Return the final merged DataFrame\n",
    "    return merged_results_df"
   ]
  },
  {
   "cell_type": "markdown",
   "id": "6caf22d2-e5f9-40f3-b8b5-4d516244fb2c",
   "metadata": {},
   "source": [
    "### Extract word frequency table for total, male, and female"
   ]
  },
  {
   "cell_type": "code",
   "execution_count": null,
   "id": "9b005ebb-7f0c-4998-88c1-9954ad045e3c",
   "metadata": {},
   "outputs": [],
   "source": [
    "word_frequency_total = merge_word_values_by_age(word_freq_percentage_by_age_corrected_total, words)\n",
    "word_frequency_male = merge_word_values_by_age(word_freq_percentage_by_age_corrected_male, words)\n",
    "word_frequency_female = merge_word_values_by_age(word_freq_percentage_by_age_corrected_female, words)"
   ]
  },
  {
   "cell_type": "code",
   "execution_count": null,
   "id": "16b61bbf-b615-4d59-9873-e81299e7697a",
   "metadata": {},
   "outputs": [],
   "source": [
    "word_frequency_female"
   ]
  },
  {
   "cell_type": "code",
   "execution_count": null,
   "id": "b8238537-66ca-435d-972f-047b28088e65",
   "metadata": {},
   "outputs": [],
   "source": []
  }
 ],
 "metadata": {
  "kernelspec": {
   "display_name": "Python (text_processing)",
   "language": "python",
   "name": "text_processing_env"
  },
  "language_info": {
   "codemirror_mode": {
    "name": "ipython",
    "version": 3
   },
   "file_extension": ".py",
   "mimetype": "text/x-python",
   "name": "python",
   "nbconvert_exporter": "python",
   "pygments_lexer": "ipython3",
   "version": "3.11.4"
  }
 },
 "nbformat": 4,
 "nbformat_minor": 5
}
